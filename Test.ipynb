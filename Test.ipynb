{
 "cells": [
  {
   "cell_type": "markdown",
   "metadata": {},
   "source": [
    "What is Data Type.?\n",
    "what is Varibale..?\n",
    "what is operator.?\n",
    "what is condition .?\n",
    "what is expression ..?\n",
    "Note : for all above question explain with examples\n",
    "\n",
    "1)write a program to check given number is divisor for 20 or not. if it true then print \n",
    "square of the number else print  cube of the number.\n",
    "2)write a program to check given number is even or odd..?\n",
    "3)write a program to check given character is uppercase or lowercase..?\n",
    "4)write a program to check given character is vowel or not..?if it is vowel then check uppercase or lowercase.\n",
    "5)write a program to print divisors of the given number.\n",
    "6)write a program to print sum of the numbers from 1 to 10.\n",
    "7)write a program to check product of the numbers from 6 to 1 is evern or odd.?\n",
    "8)write a program to print product of odd divisors of the given nummber\n",
    "9)write a program to check given number is prime or not.?\n",
    "10)write a program to check given number is Spy number or not..?\n"
   ]
  }
 ],
 "metadata": {
  "language_info": {
   "name": "python"
  }
 },
 "nbformat": 4,
 "nbformat_minor": 2
}
