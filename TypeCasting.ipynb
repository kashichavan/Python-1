{
 "cells": [
  {
   "cell_type": "code",
   "execution_count": 10,
   "metadata": {},
   "outputs": [
    {
     "name": "stdout",
     "output_type": "stream",
     "text": [
      "True\n",
      "[1, 2, 3, 1]\n",
      "(1, 2, 3, 1)\n",
      "{1, 2, 3}\n"
     ]
    },
    {
     "ename": "TypeError",
     "evalue": "cannot convert dictionary update sequence element #0 to a sequence",
     "output_type": "error",
     "traceback": [
      "\u001b[1;31m---------------------------------------------------------------------------\u001b[0m",
      "\u001b[1;31mTypeError\u001b[0m                                 Traceback (most recent call last)",
      "Cell \u001b[1;32mIn[10], line 6\u001b[0m\n\u001b[0;32m      4\u001b[0m \u001b[38;5;28mprint\u001b[39m(\u001b[38;5;28mtuple\u001b[39m(l))\n\u001b[0;32m      5\u001b[0m \u001b[38;5;28mprint\u001b[39m(\u001b[38;5;28mset\u001b[39m(l))\n\u001b[1;32m----> 6\u001b[0m \u001b[38;5;28mprint\u001b[39m(\u001b[38;5;28;43mdict\u001b[39;49m\u001b[43m(\u001b[49m\u001b[43ml\u001b[49m\u001b[43m)\u001b[49m)\n",
      "\u001b[1;31mTypeError\u001b[0m: cannot convert dictionary update sequence element #0 to a sequence"
     ]
    }
   ],
   "source": [
    "l=[1,2,3,1]\n",
    "print(bool(l))\n",
    "print(str(l))\n",
    "print(tuple(l))\n",
    "print(set(l))\n",
    "print(dict(l))"
   ]
  },
  {
   "cell_type": "code",
   "execution_count": 15,
   "metadata": {},
   "outputs": [
    {
     "name": "stdout",
     "output_type": "stream",
     "text": [
      "(1, 2, 3, 1, 200, 3, 2, 4)\n",
      "[1, 2, 3, 1, 200, 3, 2, 4]\n",
      "{1, 2, 3, 4, 200}\n"
     ]
    }
   ],
   "source": [
    "t=(1,2,3,1,200,3,2,4)\n",
    "print(str(t))\n",
    "print(list(t))\n",
    "print(set(t))\n",
    "\n"
   ]
  },
  {
   "cell_type": "code",
   "execution_count": 22,
   "metadata": {},
   "outputs": [
    {
     "name": "stdout",
     "output_type": "stream",
     "text": [
      "{1: 2, 2: 3}\n",
      "{'name': 'raja', 1: 20, 20: 25}\n"
     ]
    }
   ],
   "source": [
    "t=((1,2),[2,3])\n",
    "l=[[\"name\",\"raja\"],{1,20},(20,25)]\n",
    "print(dict(t))\n",
    "print(dict(l))"
   ]
  },
  {
   "cell_type": "code",
   "execution_count": null,
   "metadata": {},
   "outputs": [],
   "source": []
  },
  {
   "cell_type": "markdown",
   "metadata": {},
   "source": [
    "tuple can be converted into only string,list,set\n",
    "\n",
    "\n",
    "to convert into dict:\n",
    "--------------------\n",
    " always there must be subList or subTuple or subset of 2 fixed elements"
   ]
  },
  {
   "cell_type": "markdown",
   "metadata": {},
   "source": [
    "set data type into other data types:\n",
    "-------------------------------------\n",
    "\n",
    "set can be converted into str,list,tuple,dict\n"
   ]
  },
  {
   "cell_type": "code",
   "execution_count": 24,
   "metadata": {},
   "outputs": [
    {
     "name": "stdout",
     "output_type": "stream",
     "text": [
      "{3, 12, 4, 44}\n",
      "[3, 12, 4, 44]\n",
      "(3, 12, 4, 44)\n",
      "{'raja': 'rajakumar', 1: 2}\n"
     ]
    }
   ],
   "source": [
    "set1={12,3,4,44,3,4,}\n",
    "print(str(set1))\n",
    "print(list(set1))\n",
    "print(tuple(set1))\n",
    "\n",
    "\n",
    "set2={(1,2),(\"raja\",\"rajakumar\")}\n",
    "print(dict(set2))"
   ]
  },
  {
   "cell_type": "code",
   "execution_count": 30,
   "metadata": {},
   "outputs": [
    {
     "name": "stdout",
     "output_type": "stream",
     "text": [
      "{1: 200, 2: 400, 'name': 'Pollard'}\n",
      "[1, 2, 'name']\n",
      "(1, 2, 'name')\n",
      "{1, 2, 'name'}\n",
      "{1: 200, 2: 400, 'name': 'Pollard'}\n"
     ]
    }
   ],
   "source": [
    "dict1={1:200,2:400,\"name\":\"Pollard\"}\n",
    "print(str(dict1))\n",
    "print(list(dict1))\n",
    "print(tuple(dict1))\n",
    "print(set(dict1))\n",
    "\n",
    "\n",
    "\n",
    "print(dict1)"
   ]
  },
  {
   "cell_type": "markdown",
   "metadata": {},
   "source": [
    "slicing:\n",
    "---------\n",
    "The process of retrieving elements from given collection is known as slicing.\n",
    "\n",
    "syntax:\n",
    "------\n",
    "        varName[si:ei]\n",
    "\n",
    "    always this retrieves elements from startIndex to endIndex-1 \n",
    "        startIndex--> it can be empty ,if it is empty then it will start from 0.\n",
    "        endIndex--> it can be empty,if it is empty then it will end at length of collection"
   ]
  },
  {
   "cell_type": "code",
   "execution_count": 4,
   "metadata": {},
   "outputs": [
    {
     "name": "stdout",
     "output_type": "stream",
     "text": [
      "Hel\n",
      "llo Developers\n",
      "Hello Developers\n",
      "Hello \n"
     ]
    }
   ],
   "source": [
    "s=\"Hello Developers\"\n",
    "a=s[:3]\n",
    "print(a)\n",
    "print(s[2:])\n",
    "print(s[:])\n",
    "print(s[:6])"
   ]
  },
  {
   "cell_type": "code",
   "execution_count": 10,
   "metadata": {},
   "outputs": [
    {
     "name": "stdout",
     "output_type": "stream",
     "text": [
      "Goo\n",
      "ood\n",
      "Go\n",
      "terN\n",
      "fter\n",
      "erNo\n",
      "Noon\n"
     ]
    }
   ],
   "source": [
    "st=\"Good AfterNoon\"\n",
    "\n",
    "'''O/p:-->\n",
    "    goo\n",
    "    ood\n",
    "    go\n",
    "    terN\n",
    "    fter\n",
    "    erNo\n",
    "    Noon\n",
    "'''\n",
    "\n",
    "print(st[:3])\n",
    "print(st[1:4])\n",
    "print(st[:2])\n",
    "print(st[7:11])\n",
    "print(st[6:10])\n",
    "print(st[8:12])\n",
    "print(st[10:])"
   ]
  },
  {
   "cell_type": "code",
   "execution_count": 12,
   "metadata": {},
   "outputs": [
    {
     "name": "stdout",
     "output_type": "stream",
     "text": [
      "[520, 'raja', 'ujwal', 55]\n",
      "raj\n"
     ]
    }
   ],
   "source": [
    "l=[1,2,3600,520,\"raja\",\"ujwal\",55]\n",
    "print(l[3:])\n",
    "print(l[4][:3])\n",
    "print(l[4][:2])\n",
    "print(l[0]) \n",
    "print(l[-2][0:4])\n"
   ]
  },
  {
   "cell_type": "code",
   "execution_count": 17,
   "metadata": {},
   "outputs": [
    {
     "name": "stdout",
     "output_type": "stream",
     "text": [
      "Work\n"
     ]
    }
   ],
   "source": [
    "d={'a':[\"Work from Home\",\"Hello World\"]}\n",
    "\n",
    "\n",
    "'Home'\n",
    "'from'\n",
    "'Hell'\n",
    "'ome'\n",
    "'Wor'\n",
    "'fro'\n",
    "'ork'\n",
    "'ello'   \n",
    "'lo Wo'\n",
    "'rld'\n",
    "\n",
    "print(d['a'][:4])"
   ]
  }
 ],
 "metadata": {
  "kernelspec": {
   "display_name": "Python 3",
   "language": "python",
   "name": "python3"
  },
  "language_info": {
   "codemirror_mode": {
    "name": "ipython",
    "version": 3
   },
   "file_extension": ".py",
   "mimetype": "text/x-python",
   "name": "python",
   "nbconvert_exporter": "python",
   "pygments_lexer": "ipython3",
   "version": "3.12.1"
  }
 },
 "nbformat": 4,
 "nbformat_minor": 2
}
