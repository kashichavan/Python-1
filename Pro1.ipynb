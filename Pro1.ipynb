{
 "cells": [
  {
   "cell_type": "code",
   "execution_count": 1,
   "metadata": {},
   "outputs": [
    {
     "name": "stdout",
     "output_type": "stream",
     "text": [
      "321Hello963Bye789\n"
     ]
    }
   ],
   "source": [
    "st=\"123Hello369Bye987\"\n",
    "res=\"\"\n",
    "digit=\"\"\n",
    "j=0\n",
    "for i in st:\n",
    "    if i>='0' and i<='9':\n",
    "        digit=i+digit\n",
    "    elif not(i>='0' and i<='9') and st[j-1]>='0' and st[j-1]<='9':\n",
    "        res=res+digit\n",
    "        digit=\"\"\n",
    "    \n",
    "    if not(i>='0' and i<='9'):\n",
    "        res=res+i\n",
    "    j+=1\n",
    "res=res+digit\n",
    "print(res)"
   ]
  }
 ],
 "metadata": {
  "kernelspec": {
   "display_name": "Python 3",
   "language": "python",
   "name": "python3"
  },
  "language_info": {
   "codemirror_mode": {
    "name": "ipython",
    "version": 3
   },
   "file_extension": ".py",
   "mimetype": "text/x-python",
   "name": "python",
   "nbconvert_exporter": "python",
   "pygments_lexer": "ipython3",
   "version": "3.12.1"
  }
 },
 "nbformat": 4,
 "nbformat_minor": 2
}
