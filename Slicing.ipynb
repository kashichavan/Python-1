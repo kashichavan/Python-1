{
 "cells": [
  {
   "cell_type": "code",
   "execution_count": 13,
   "metadata": {},
   "outputs": [
    {
     "name": "stdout",
     "output_type": "stream",
     "text": [
      "Jawani\n",
      "Barak\n",
      "name\n",
      "age\n",
      "57\n",
      "Oba\n",
      "cars\n",
      "['volvo', 'bmw']\n",
      "volvo\n"
     ]
    }
   ],
   "source": [
    "l=[\n",
    "    \"Ye Jawani Hai Deewani\",\n",
    "    {\n",
    "        \"name\":\"Barak Obama\",\n",
    "        \"age\":57\n",
    "    },\n",
    "    {\n",
    "        \"cars\":[\"volvo\",\"bmw\",\"audi\"]\n",
    "    }\n",
    "]\n",
    "\n",
    "print(l[0][3:9])\n",
    "print(l[1]['name'][:5])\n",
    "print(list(l[1])[0])\n",
    "print(list(l[1])[1])\n",
    "print(l[1]['age'])\n",
    "print(l[1]['name'][6:9])\n",
    "print(list(l[2])[0])\n",
    "print(l[2]['cars'][0:2])\n",
    "print(l[2]['cars'][0])"
   ]
  }
 ],
 "metadata": {
  "kernelspec": {
   "display_name": "Python 3",
   "language": "python",
   "name": "python3"
  },
  "language_info": {
   "codemirror_mode": {
    "name": "ipython",
    "version": 3
   },
   "file_extension": ".py",
   "mimetype": "text/x-python",
   "name": "python",
   "nbconvert_exporter": "python",
   "pygments_lexer": "ipython3",
   "version": "3.12.1"
  }
 },
 "nbformat": 4,
 "nbformat_minor": 2
}
